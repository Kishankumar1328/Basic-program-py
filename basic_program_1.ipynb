{
  "nbformat": 4,
  "nbformat_minor": 0,
  "metadata": {
    "colab": {
      "provenance": [],
      "authorship_tag": "ABX9TyOzMU6KNEppRDfgSjzZi8Kk",
      "include_colab_link": true
    },
    "kernelspec": {
      "name": "python3",
      "display_name": "Python 3"
    },
    "language_info": {
      "name": "python"
    }
  },
  "cells": [
    {
      "cell_type": "markdown",
      "metadata": {
        "id": "view-in-github",
        "colab_type": "text"
      },
      "source": [
        "<a href=\"https://colab.research.google.com/github/Kishankumar1328/Basic-program-py/blob/main/basic_program_1.ipynb\" target=\"_parent\"><img src=\"https://colab.research.google.com/assets/colab-badge.svg\" alt=\"Open In Colab\"/></a>"
      ]
    },
    {
      "cell_type": "markdown",
      "source": [
        "# **Palindrome**"
      ],
      "metadata": {
        "id": "9dHIQXE61fpE"
      }
    },
    {
      "cell_type": "code",
      "execution_count": 1,
      "metadata": {
        "colab": {
          "base_uri": "https://localhost:8080/"
        },
        "id": "q1ix2a3-1e-f",
        "outputId": "3821bb8c-9562-458f-a50a-8fbe9dbe7573"
      },
      "outputs": [
        {
          "output_type": "stream",
          "name": "stdout",
          "text": [
            "Enter the Word:james\n",
            "james is a not palindrome\n"
          ]
        }
      ],
      "source": [
        "def is_palindrome(string):\n",
        "  reversed_string=string[::-1]\n",
        "  return string==reversed_string\n",
        "\n",
        "word=input(\"Enter the Word:\")\n",
        "if is_palindrome(word):\n",
        "  print(f\"{word} is a palindrome\")\n",
        "else:\n",
        "  print(f\"{word} is a not palindrome\")"
      ]
    },
    {
      "cell_type": "markdown",
      "source": [
        "# **Factorial**"
      ],
      "metadata": {
        "id": "XjiW09uL1s7Z"
      }
    },
    {
      "cell_type": "code",
      "source": [
        "def factorial(n):\n",
        "  if n==0:\n",
        "    return 1\n",
        "  elif n<0:\n",
        "    return 0\n",
        "  else:\n",
        "    return n*factorial(n-1)\n",
        "\n",
        "\n",
        "Number=int(input(\"Enter the Number:\"))\n",
        "result=factorial(Number)\n",
        "print(f\"the factorial of {Number} is {result}\")"
      ],
      "metadata": {
        "colab": {
          "base_uri": "https://localhost:8080/"
        },
        "id": "zAMKCHd31sXH",
        "outputId": "e211bc05-eec9-40ae-a815-ccbda48abff3"
      },
      "execution_count": 2,
      "outputs": [
        {
          "output_type": "stream",
          "name": "stdout",
          "text": [
            "Enter the Number:16\n",
            "the factorial of 16 is 20922789888000\n"
          ]
        }
      ]
    },
    {
      "cell_type": "markdown",
      "source": [
        "# **Largest Element in a List**"
      ],
      "metadata": {
        "id": "y9RiXRPi1yun"
      }
    },
    {
      "cell_type": "code",
      "source": [
        "def f_largest(numbers):\n",
        "  largest=numbers[0]\n",
        "  for num in numbers:\n",
        "    if num>largest:\n",
        "      largest=num\n",
        "  return largest\n",
        "\n",
        "nums=[10,2,3,4,7,0]\n",
        "largest_num=f_largest(nums)\n",
        "print(f\"The largest number is{largest_num}\")"
      ],
      "metadata": {
        "colab": {
          "base_uri": "https://localhost:8080/"
        },
        "id": "YhkgRh-o13bP",
        "outputId": "8a34c2ad-861d-43ec-a91c-c90d2674e82a"
      },
      "execution_count": 3,
      "outputs": [
        {
          "output_type": "stream",
          "name": "stdout",
          "text": [
            "The largest number is10\n"
          ]
        }
      ]
    },
    {
      "cell_type": "code",
      "source": [
        "number=[13,25,28,29]\n",
        "largest=number[0]\n",
        "\n",
        "for num in number:\n",
        "  if num>largest:\n",
        "    largest=num\n",
        "\n",
        "print(f\"largest number in the list is : {largest}\")"
      ],
      "metadata": {
        "colab": {
          "base_uri": "https://localhost:8080/"
        },
        "id": "KglIdJ4X15xU",
        "outputId": "6e7516ea-f6bb-4d31-c5b0-cc289c282a0a"
      },
      "execution_count": 4,
      "outputs": [
        {
          "output_type": "stream",
          "name": "stdout",
          "text": [
            "largest number in the list is : 29\n"
          ]
        }
      ]
    },
    {
      "cell_type": "markdown",
      "source": [
        "# **Reverse The String**"
      ],
      "metadata": {
        "id": "1dP7w0L-16nk"
      }
    },
    {
      "cell_type": "code",
      "source": [
        "word=input(\"Enter the word:\")\n",
        "words=word[::-1]\n",
        "print(words)"
      ],
      "metadata": {
        "colab": {
          "base_uri": "https://localhost:8080/"
        },
        "id": "THw074z91_KF",
        "outputId": "6e84250d-725c-406c-93d3-656cc32e7621"
      },
      "execution_count": 5,
      "outputs": [
        {
          "output_type": "stream",
          "name": "stdout",
          "text": [
            "Enter the word:ram\n",
            "mar\n"
          ]
        }
      ]
    }
  ]
}